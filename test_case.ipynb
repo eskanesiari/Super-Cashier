{
  "nbformat": 4,
  "nbformat_minor": 0,
  "metadata": {
    "colab": {
      "provenance": []
    },
    "kernelspec": {
      "name": "python3",
      "display_name": "Python 3"
    },
    "language_info": {
      "name": "python"
    }
  },
  "cells": [
    {
      "cell_type": "code",
      "execution_count": 35,
      "metadata": {
        "id": "pSjAdH_Thc57"
      },
      "outputs": [],
      "source": [
        "from script import Transaction"
      ]
    },
    {
      "cell_type": "code",
      "source": [
        "trnsct_123 = Transaction()"
      ],
      "metadata": {
        "id": "9bN0yx8Ehr44"
      },
      "execution_count": 36,
      "outputs": []
    },
    {
      "cell_type": "code",
      "source": [
        "trnsct_123.add_item('Ayam Goreng', 2, 20000)\n",
        "trnsct_123.add_item('Pasta Gigi', 3, 15000)"
      ],
      "metadata": {
        "colab": {
          "base_uri": "https://localhost:8080/",
          "height": 53
        },
        "id": "ZA9R6OBAhuUY",
        "outputId": "5f2d9248-624a-4518-cf0b-c4905bc75b88"
      },
      "execution_count": 37,
      "outputs": [
        {
          "output_type": "execute_result",
          "data": {
            "text/plain": [
              "\"Item yang dibeli adalah : {'Ayam Goreng': [2, 20000], 'Pasta Gigi': [3, 15000]}\""
            ],
            "application/vnd.google.colaboratory.intrinsic+json": {
              "type": "string"
            }
          },
          "metadata": {},
          "execution_count": 37
        }
      ]
    },
    {
      "cell_type": "code",
      "source": [
        "trnsct_123.update_item_qty('Ayam Goreng', 4)"
      ],
      "metadata": {
        "colab": {
          "base_uri": "https://localhost:8080/",
          "height": 53
        },
        "id": "FKF16wMbPx8R",
        "outputId": "b37692cf-a943-4b4c-fe37-923f5fb42aa5"
      },
      "execution_count": 38,
      "outputs": [
        {
          "output_type": "execute_result",
          "data": {
            "text/plain": [
              "\"Item yang dibeli adalah : {'Ayam Goreng': [4, 20000], 'Pasta Gigi': [3, 15000]}\""
            ],
            "application/vnd.google.colaboratory.intrinsic+json": {
              "type": "string"
            }
          },
          "metadata": {},
          "execution_count": 38
        }
      ]
    },
    {
      "cell_type": "code",
      "source": [
        "trnsct_123.update_item_price('Ayam Goreng', 30000)"
      ],
      "metadata": {
        "colab": {
          "base_uri": "https://localhost:8080/",
          "height": 53
        },
        "id": "k5SHG6xNRYeH",
        "outputId": "ee511e1a-c16e-4e6e-c1a1-457cc05436f2"
      },
      "execution_count": 39,
      "outputs": [
        {
          "output_type": "execute_result",
          "data": {
            "text/plain": [
              "\"Item yang dibeli adalah : {'Ayam Goreng': [4, 30000], 'Pasta Gigi': [3, 15000]}\""
            ],
            "application/vnd.google.colaboratory.intrinsic+json": {
              "type": "string"
            }
          },
          "metadata": {},
          "execution_count": 39
        }
      ]
    },
    {
      "cell_type": "code",
      "source": [
        "trnsct_123.update_item_name('Ayam Goreng', 'Ayam Bakar')"
      ],
      "metadata": {
        "colab": {
          "base_uri": "https://localhost:8080/",
          "height": 53
        },
        "id": "vsNQr_NkR8yt",
        "outputId": "65fa6e4c-4d2a-4f4b-e757-43479db00da5"
      },
      "execution_count": 41,
      "outputs": [
        {
          "output_type": "execute_result",
          "data": {
            "text/plain": [
              "\"Item yang dibeli adalah : {'Pasta Gigi': [3, 15000], 'Ayam Bakar': [4, 30000]}\""
            ],
            "application/vnd.google.colaboratory.intrinsic+json": {
              "type": "string"
            }
          },
          "metadata": {},
          "execution_count": 41
        }
      ]
    },
    {
      "cell_type": "code",
      "source": [
        "trnsct_123.delete_item('Pasta Gigi')"
      ],
      "metadata": {
        "colab": {
          "base_uri": "https://localhost:8080/",
          "height": 36
        },
        "id": "uKoDPgMkhwxM",
        "outputId": "eef218a1-4b8d-4102-9cb4-871463a2875b"
      },
      "execution_count": 42,
      "outputs": [
        {
          "output_type": "execute_result",
          "data": {
            "text/plain": [
              "\"Item yang dibeli adalah : {'Ayam Bakar': [4, 30000]}\""
            ],
            "application/vnd.google.colaboratory.intrinsic+json": {
              "type": "string"
            }
          },
          "metadata": {},
          "execution_count": 42
        }
      ]
    },
    {
      "cell_type": "code",
      "source": [
        "trnsct_123.reset_transaction()"
      ],
      "metadata": {
        "colab": {
          "base_uri": "https://localhost:8080/",
          "height": 36
        },
        "id": "qS_Fd02Mh2Kb",
        "outputId": "162a7f52-6f49-4f56-dc09-9aa75d16e744"
      },
      "execution_count": 43,
      "outputs": [
        {
          "output_type": "execute_result",
          "data": {
            "text/plain": [
              "'Semua item berhasil di delete!'"
            ],
            "application/vnd.google.colaboratory.intrinsic+json": {
              "type": "string"
            }
          },
          "metadata": {},
          "execution_count": 43
        }
      ]
    },
    {
      "cell_type": "code",
      "source": [
        "trnsct_123.check_order()"
      ],
      "metadata": {
        "colab": {
          "base_uri": "https://localhost:8080/"
        },
        "id": "t6RJ8249h3jr",
        "outputId": "002ecc92-2201-47ad-892f-6bcb52f5dc6f"
      },
      "execution_count": 44,
      "outputs": [
        {
          "output_type": "stream",
          "name": "stdout",
          "text": [
            "Tidak terdapat pesanan\n"
          ]
        }
      ]
    },
    {
      "cell_type": "code",
      "source": [
        "trnsct_123.add_item('Ayam Goreng', 2, 20000)\n",
        "trnsct_123.add_item('Pasta Gigi', 3, 15000)\n",
        "trnsct_123.add_item('Mainan Mobil', 1, 200000)\n",
        "trnsct_123.add_item('Mi Instan', 5, 3000)"
      ],
      "metadata": {
        "colab": {
          "base_uri": "https://localhost:8080/",
          "height": 53
        },
        "id": "ZW_JsJUWiylq",
        "outputId": "ca850cc3-9c88-4978-d983-ef9a6e3b3542"
      },
      "execution_count": 46,
      "outputs": [
        {
          "output_type": "execute_result",
          "data": {
            "text/plain": [
              "\"Item yang dibeli adalah : {'Ayam Goreng': [2, 20000], 'Pasta Gigi': [3, 15000], 'Mainan Mobil': [1, 200000], 'Mi Instan': [5, 3000]}\""
            ],
            "application/vnd.google.colaboratory.intrinsic+json": {
              "type": "string"
            }
          },
          "metadata": {},
          "execution_count": 46
        }
      ]
    },
    {
      "cell_type": "code",
      "source": [
        "trnsct_123.check_order()"
      ],
      "metadata": {
        "colab": {
          "base_uri": "https://localhost:8080/"
        },
        "id": "u-9CzdPigWAY",
        "outputId": "e750c1f5-ab0d-4882-d7d8-683310fbd717"
      },
      "execution_count": 47,
      "outputs": [
        {
          "output_type": "stream",
          "name": "stdout",
          "text": [
            "|              |   jumlah |   harga |\n",
            "|:-------------|---------:|--------:|\n",
            "| Ayam Goreng  |        2 |   20000 |\n",
            "| Pasta Gigi   |        3 |   15000 |\n",
            "| Mainan Mobil |        1 |  200000 |\n",
            "| Mi Instan    |        5 |    3000 |\n",
            "Pemesanan sudah benar\n"
          ]
        }
      ]
    },
    {
      "cell_type": "code",
      "source": [
        "trnsct_123.total_price()"
      ],
      "metadata": {
        "colab": {
          "base_uri": "https://localhost:8080/",
          "height": 70
        },
        "id": "1hMSs-owh5F5",
        "outputId": "f14da9d1-3b46-4c78-9a67-0186db9c2d15"
      },
      "execution_count": 48,
      "outputs": [
        {
          "output_type": "execute_result",
          "data": {
            "text/plain": [
              "\"Item yang dibeli adalah : {'Ayam Goreng': [2, 20000], 'Pasta Gigi': [3, 15000], 'Mainan Mobil': [1, 200000], 'Mi Instan': [5, 3000]}. Anda Mendapat Diskon 5%. Total belanja anda adalah : 285000.0\""
            ],
            "application/vnd.google.colaboratory.intrinsic+json": {
              "type": "string"
            }
          },
          "metadata": {},
          "execution_count": 48
        }
      ]
    }
  ]
}